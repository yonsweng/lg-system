{
 "metadata": {
  "language_info": {
   "codemirror_mode": {
    "name": "ipython",
    "version": 3
   },
   "file_extension": ".py",
   "mimetype": "text/x-python",
   "name": "python",
   "nbconvert_exporter": "python",
   "pygments_lexer": "ipython3",
   "version": "3.9.1-final"
  },
  "orig_nbformat": 2,
  "kernelspec": {
   "name": "python3",
   "display_name": "Python 3",
   "language": "python"
  }
 },
 "nbformat": 4,
 "nbformat_minor": 2,
 "cells": [
  {
   "cell_type": "code",
   "execution_count": 1,
   "metadata": {},
   "outputs": [],
   "source": [
    "import os\n",
    "import pandas as pd\n",
    "import numpy as np\n",
    "from collections import OrderedDict"
   ]
  },
  {
   "cell_type": "code",
   "execution_count": 2,
   "metadata": {},
   "outputs": [],
   "source": [
    "PATH = '../data'\n",
    "train_err = pd.read_csv(os.path.join(PATH, 'train_err_data.csv'))\n",
    "train_problem = pd.read_csv(os.path.join(PATH, 'train_problem_data.csv'))"
   ]
  },
  {
   "cell_type": "code",
   "execution_count": 3,
   "metadata": {},
   "outputs": [],
   "source": [
    "test_err = pd.read_csv(os.path.join(PATH, 'test_err_data.csv'))"
   ]
  },
  {
   "source": [
    "# errtype e를 가진 사람 중 불만이 있는 사람 세기"
   ],
   "cell_type": "markdown",
   "metadata": {}
  },
  {
   "cell_type": "code",
   "execution_count": 4,
   "metadata": {},
   "outputs": [
    {
     "output_type": "stream",
     "name": "stdout",
     "text": [
      "CPU times: user 1min 2s, sys: 1.75 s, total: 1min 4s\nWall time: 1min 1s\n"
     ]
    }
   ],
   "source": [
    "%%time\n",
    "# train_err array\n",
    "te = train_err[['user_id', 'time', 'errtype']].values\n",
    "\n",
    "# train_problem array\n",
    "tp = train_problem.values\n",
    "tp = tp[tp[:, 0].argsort()]\n",
    "# tp = tp[tp[:, 1].argsort()]  # sort by time\n",
    "\n",
    "dic = {}\n",
    "\n",
    "for i in range(len(te)):\n",
    "    row = te[i]\n",
    "    user_id, time, errtype = row[0], row[1], row[2]\n",
    "\n",
    "    # time_lower_bound = np.searchsorted(tp[:, 1], time)\n",
    "    # time_upper_bound = np.searchsorted(tp[:, 1], time, side='right')\n",
    "    # selected = time_lower_bound + np.searchsorted(tp[time_lower_bound:time_upper_bound, 0], user_id)\n",
    "    selected = np.searchsorted(tp[:, 0], user_id)\n",
    "\n",
    "    if errtype not in dic:\n",
    "        dic[errtype] = {'problems': 0, 'total': 0}\n",
    "\n",
    "    if selected < len(tp) and tp[selected, 0] == user_id:\n",
    "        dic[errtype]['problems'] += 1\n",
    "    dic[errtype]['total'] += 1"
   ]
  },
  {
   "cell_type": "code",
   "execution_count": 5,
   "metadata": {},
   "outputs": [
    {
     "output_type": "execute_result",
     "data": {
      "text/plain": [
       "     problems      total     ratio\n",
       "25     1060.0     1184.0  0.895270\n",
       "18     2339.0     2671.0  0.875702\n",
       "20     1809.0     2080.0  0.869712\n",
       "19      554.0      664.0  0.834337\n",
       "21      506.0      607.0  0.833608\n",
       "34   122748.0   165536.0  0.741518\n",
       "10    96989.0   133403.0  0.727038\n",
       "35     7406.0    10187.0  0.727005\n",
       "13    16363.0    22843.0  0.716324\n",
       "30      281.0      402.0  0.699005\n",
       "7     30025.0    51993.0  0.577482\n",
       "6     28187.0    50482.0  0.558357\n",
       "39     8819.0    15820.0  0.557459\n",
       "23  1250243.0  2276515.0  0.549192\n",
       "27   294144.0   540804.0  0.543901\n",
       "28   294513.0   544306.0  0.541080\n",
       "38     2349.0     4539.0  0.517515\n",
       "22   964736.0  1865361.0  0.517185\n",
       "14   125541.0   252015.0  0.498149\n",
       "9        54.0      109.0  0.495413\n",
       "32   538238.0  1130564.0  0.476079\n",
       "41    48787.0   104138.0  0.468484\n",
       "17    21257.0    46009.0  0.462018\n",
       "3     13940.0    30758.0  0.453215\n",
       "24    17646.0    39071.0  0.451639\n",
       "40   327526.0   730378.0  0.448434\n",
       "5    423956.0   952920.0  0.444902\n",
       "31   868235.0  1985294.0  0.437333\n",
       "12   132926.0   320181.0  0.415159\n",
       "37     3874.0     9336.0  0.414953\n",
       "36     3860.0     9317.0  0.414296\n",
       "11   126391.0   307030.0  0.411657\n",
       "16   513531.0  1249376.0  0.411030\n",
       "15   640140.0  1604951.0  0.398853\n",
       "33    69366.0   178477.0  0.388655\n",
       "26   202030.0   536401.0  0.376640\n",
       "2      9310.0    26106.0  0.356623\n",
       "42    11905.0    34374.0  0.346337\n",
       "4    363153.0  1296750.0  0.280049\n",
       "1      4016.0    21545.0  0.186401\n",
       "8        28.0      166.0  0.168675"
      ],
      "text/html": "<div>\n<style scoped>\n    .dataframe tbody tr th:only-of-type {\n        vertical-align: middle;\n    }\n\n    .dataframe tbody tr th {\n        vertical-align: top;\n    }\n\n    .dataframe thead th {\n        text-align: right;\n    }\n</style>\n<table border=\"1\" class=\"dataframe\">\n  <thead>\n    <tr style=\"text-align: right;\">\n      <th></th>\n      <th>problems</th>\n      <th>total</th>\n      <th>ratio</th>\n    </tr>\n  </thead>\n  <tbody>\n    <tr>\n      <th>25</th>\n      <td>1060.0</td>\n      <td>1184.0</td>\n      <td>0.895270</td>\n    </tr>\n    <tr>\n      <th>18</th>\n      <td>2339.0</td>\n      <td>2671.0</td>\n      <td>0.875702</td>\n    </tr>\n    <tr>\n      <th>20</th>\n      <td>1809.0</td>\n      <td>2080.0</td>\n      <td>0.869712</td>\n    </tr>\n    <tr>\n      <th>19</th>\n      <td>554.0</td>\n      <td>664.0</td>\n      <td>0.834337</td>\n    </tr>\n    <tr>\n      <th>21</th>\n      <td>506.0</td>\n      <td>607.0</td>\n      <td>0.833608</td>\n    </tr>\n    <tr>\n      <th>34</th>\n      <td>122748.0</td>\n      <td>165536.0</td>\n      <td>0.741518</td>\n    </tr>\n    <tr>\n      <th>10</th>\n      <td>96989.0</td>\n      <td>133403.0</td>\n      <td>0.727038</td>\n    </tr>\n    <tr>\n      <th>35</th>\n      <td>7406.0</td>\n      <td>10187.0</td>\n      <td>0.727005</td>\n    </tr>\n    <tr>\n      <th>13</th>\n      <td>16363.0</td>\n      <td>22843.0</td>\n      <td>0.716324</td>\n    </tr>\n    <tr>\n      <th>30</th>\n      <td>281.0</td>\n      <td>402.0</td>\n      <td>0.699005</td>\n    </tr>\n    <tr>\n      <th>7</th>\n      <td>30025.0</td>\n      <td>51993.0</td>\n      <td>0.577482</td>\n    </tr>\n    <tr>\n      <th>6</th>\n      <td>28187.0</td>\n      <td>50482.0</td>\n      <td>0.558357</td>\n    </tr>\n    <tr>\n      <th>39</th>\n      <td>8819.0</td>\n      <td>15820.0</td>\n      <td>0.557459</td>\n    </tr>\n    <tr>\n      <th>23</th>\n      <td>1250243.0</td>\n      <td>2276515.0</td>\n      <td>0.549192</td>\n    </tr>\n    <tr>\n      <th>27</th>\n      <td>294144.0</td>\n      <td>540804.0</td>\n      <td>0.543901</td>\n    </tr>\n    <tr>\n      <th>28</th>\n      <td>294513.0</td>\n      <td>544306.0</td>\n      <td>0.541080</td>\n    </tr>\n    <tr>\n      <th>38</th>\n      <td>2349.0</td>\n      <td>4539.0</td>\n      <td>0.517515</td>\n    </tr>\n    <tr>\n      <th>22</th>\n      <td>964736.0</td>\n      <td>1865361.0</td>\n      <td>0.517185</td>\n    </tr>\n    <tr>\n      <th>14</th>\n      <td>125541.0</td>\n      <td>252015.0</td>\n      <td>0.498149</td>\n    </tr>\n    <tr>\n      <th>9</th>\n      <td>54.0</td>\n      <td>109.0</td>\n      <td>0.495413</td>\n    </tr>\n    <tr>\n      <th>32</th>\n      <td>538238.0</td>\n      <td>1130564.0</td>\n      <td>0.476079</td>\n    </tr>\n    <tr>\n      <th>41</th>\n      <td>48787.0</td>\n      <td>104138.0</td>\n      <td>0.468484</td>\n    </tr>\n    <tr>\n      <th>17</th>\n      <td>21257.0</td>\n      <td>46009.0</td>\n      <td>0.462018</td>\n    </tr>\n    <tr>\n      <th>3</th>\n      <td>13940.0</td>\n      <td>30758.0</td>\n      <td>0.453215</td>\n    </tr>\n    <tr>\n      <th>24</th>\n      <td>17646.0</td>\n      <td>39071.0</td>\n      <td>0.451639</td>\n    </tr>\n    <tr>\n      <th>40</th>\n      <td>327526.0</td>\n      <td>730378.0</td>\n      <td>0.448434</td>\n    </tr>\n    <tr>\n      <th>5</th>\n      <td>423956.0</td>\n      <td>952920.0</td>\n      <td>0.444902</td>\n    </tr>\n    <tr>\n      <th>31</th>\n      <td>868235.0</td>\n      <td>1985294.0</td>\n      <td>0.437333</td>\n    </tr>\n    <tr>\n      <th>12</th>\n      <td>132926.0</td>\n      <td>320181.0</td>\n      <td>0.415159</td>\n    </tr>\n    <tr>\n      <th>37</th>\n      <td>3874.0</td>\n      <td>9336.0</td>\n      <td>0.414953</td>\n    </tr>\n    <tr>\n      <th>36</th>\n      <td>3860.0</td>\n      <td>9317.0</td>\n      <td>0.414296</td>\n    </tr>\n    <tr>\n      <th>11</th>\n      <td>126391.0</td>\n      <td>307030.0</td>\n      <td>0.411657</td>\n    </tr>\n    <tr>\n      <th>16</th>\n      <td>513531.0</td>\n      <td>1249376.0</td>\n      <td>0.411030</td>\n    </tr>\n    <tr>\n      <th>15</th>\n      <td>640140.0</td>\n      <td>1604951.0</td>\n      <td>0.398853</td>\n    </tr>\n    <tr>\n      <th>33</th>\n      <td>69366.0</td>\n      <td>178477.0</td>\n      <td>0.388655</td>\n    </tr>\n    <tr>\n      <th>26</th>\n      <td>202030.0</td>\n      <td>536401.0</td>\n      <td>0.376640</td>\n    </tr>\n    <tr>\n      <th>2</th>\n      <td>9310.0</td>\n      <td>26106.0</td>\n      <td>0.356623</td>\n    </tr>\n    <tr>\n      <th>42</th>\n      <td>11905.0</td>\n      <td>34374.0</td>\n      <td>0.346337</td>\n    </tr>\n    <tr>\n      <th>4</th>\n      <td>363153.0</td>\n      <td>1296750.0</td>\n      <td>0.280049</td>\n    </tr>\n    <tr>\n      <th>1</th>\n      <td>4016.0</td>\n      <td>21545.0</td>\n      <td>0.186401</td>\n    </tr>\n    <tr>\n      <th>8</th>\n      <td>28.0</td>\n      <td>166.0</td>\n      <td>0.168675</td>\n    </tr>\n  </tbody>\n</table>\n</div>"
     },
     "metadata": {},
     "execution_count": 5
    }
   ],
   "source": [
    "for errtype in dic:\n",
    "    dic[errtype]['ratio'] = dic[errtype]['problems'] / dic[errtype]['total']\n",
    "\n",
    "dic = OrderedDict(sorted(dic.items(), key=lambda kv: kv[1]['ratio'], reverse=True))\n",
    "pd.DataFrame(dic).T"
   ]
  },
  {
   "source": [
    "# errcode c를 가진 사람 중 불만이 있는 사람 세기"
   ],
   "cell_type": "markdown",
   "metadata": {}
  },
  {
   "cell_type": "code",
   "execution_count": 6,
   "metadata": {},
   "outputs": [
    {
     "output_type": "stream",
     "name": "stdout",
     "text": [
      "CPU times: user 54.2 s, sys: 1.48 s, total: 55.7 s\nWall time: 54.6 s\n"
     ]
    }
   ],
   "source": [
    "%%time\n",
    "# train_err array\n",
    "te = train_err[['user_id', 'time', 'errcode']].values\n",
    "\n",
    "# train_problem array\n",
    "tp = train_problem.values\n",
    "tp = tp[tp[:, 0].argsort()]\n",
    "# tp = tp[tp[:, 1].argsort()]\n",
    "\n",
    "dic = {}\n",
    "\n",
    "for i in range(len(te)):\n",
    "    row = te[i]\n",
    "    user_id, time, errcode = row[0], row[1], row[2]\n",
    "\n",
    "    # time_lower_bound = np.searchsorted(tp[:, 1], time)\n",
    "    # time_upper_bound = np.searchsorted(tp[:, 1], time, side='right')\n",
    "    # selected = time_lower_bound + np.searchsorted(tp[time_lower_bound:time_upper_bound, 0], user_id)\n",
    "    selected = np.searchsorted(tp[:, 0], user_id)\n",
    "\n",
    "    if errcode not in dic:\n",
    "        dic[errcode] = {'problems': 0, 'total': 0}\n",
    "\n",
    "    if selected < len(tp) and tp[selected, 0] == user_id:\n",
    "        dic[errcode]['problems'] += 1\n",
    "    dic[errcode]['total'] += 1"
   ]
  },
  {
   "cell_type": "code",
   "execution_count": 7,
   "metadata": {},
   "outputs": [
    {
     "output_type": "execute_result",
     "data": {
      "text/plain": [
       "1868"
      ]
     },
     "metadata": {},
     "execution_count": 7
    }
   ],
   "source": [
    "for errcode in dic:\n",
    "    dic[errcode]['ratio'] = dic[errcode]['problems'] / dic[errcode]['total']\n",
    "\n",
    "dic = OrderedDict(sorted(dic.items(), key=lambda kv: kv[1]['ratio'], reverse=True))\n",
    "code_df = pd.DataFrame(dic).T\n",
    "\n",
    "sum(code_df['ratio'] > 0.0)"
   ]
  },
  {
   "cell_type": "code",
   "execution_count": 8,
   "metadata": {},
   "outputs": [
    {
     "output_type": "execute_result",
     "data": {
      "text/plain": [
       "Index(['5', '6', 'V-21008', 'terminate by peer user', 'H-51042', '4',\n",
       "       'connection fail to establish', '82', '13', '14', '83', '99', '3', '88',\n",
       "       'connection timeout', '100', 'connectionterminated by local host', '91',\n",
       "       'UNKNOWN', '95', '87', '94', '78', '89', '90', '81', '86', 'active',\n",
       "       '85', '84', '2', 'NFANDROID2', 'S-61001', '1', '80', '79', 'B-A8002',\n",
       "       'standby', '8.0', '0', 'S-65002', 'Q-64002'],\n",
       "      dtype='object')"
      ]
     },
     "metadata": {},
     "execution_count": 8
    }
   ],
   "source": [
    "sorted_code_df = code_df[code_df['total'] >= 1000].sort_values('ratio', ascending=False)\n",
    "sorted_code_df.index"
   ]
  },
  {
   "cell_type": "code",
   "execution_count": 9,
   "metadata": {},
   "outputs": [
    {
     "output_type": "execute_result",
     "data": {
      "text/plain": [
       "                                     problems      total     ratio\n",
       "5                                      6524.0     7335.0  0.889434\n",
       "6                                      6571.0     7392.0  0.888934\n",
       "V-21008                                1458.0     1740.0  0.837931\n",
       "terminate by peer user                 1990.0     2523.0  0.788744\n",
       "H-51042                                 674.0     1045.0  0.644976\n",
       "4                                     12094.0    20249.0  0.597264\n",
       "connection fail to establish          59263.0   100940.0  0.587111\n",
       "82                                      589.0     1009.0  0.583746\n",
       "13                                     7016.0    12040.0  0.582724\n",
       "14                                   150728.0   263577.0  0.571856\n",
       "83                                     1182.0     2087.0  0.566363\n",
       "99                                     1337.0     2364.0  0.565567\n",
       "3                                     51345.0    91223.0  0.562851\n",
       "88                                      655.0     1168.0  0.560788\n",
       "connection timeout                  1025237.0  1835600.0  0.558530\n",
       "100                                    1447.0     2602.0  0.556111\n",
       "connectionterminated by local host     2153.0     4011.0  0.536774\n",
       "91                                      536.0     1001.0  0.535465\n",
       "UNKNOWN                                2084.0     3914.0  0.532448\n",
       "95                                    12473.0    23452.0  0.531852\n",
       "87                                      679.0     1279.0  0.530884\n",
       "94                                    11737.0    22118.0  0.530654\n",
       "78                                     2644.0     5028.0  0.525855\n",
       "89                                    33789.0    64799.0  0.521443\n",
       "90                                    34399.0    65992.0  0.521260\n",
       "81                                     2233.0     4339.0  0.514635\n",
       "86                                     2045.0     4023.0  0.508327\n",
       "active                               111323.0   219238.0  0.507772\n",
       "85                                    64549.0   127744.0  0.505300\n",
       "84                                    65521.0   129876.0  0.504489\n",
       "2                                     80781.0   166382.0  0.485515\n",
       "NFANDROID2                            48787.0   104138.0  0.468484\n",
       "S-61001                               15933.0    34631.0  0.460079\n",
       "1                                   4075428.0  8906967.0  0.457555\n",
       "80                                   150201.0   334018.0  0.449679\n",
       "79                                   149407.0   332422.0  0.449450\n",
       "B-A8002                              401056.0   897863.0  0.446678\n",
       "standby                               48323.0   110370.0  0.437827\n",
       "8.0                                    3860.0     9317.0  0.414296\n",
       "0                                    929364.0  2599123.0  0.357568\n",
       "S-65002                                 463.0     1583.0  0.292483\n",
       "Q-64002                                2917.0    11959.0  0.243917"
      ],
      "text/html": "<div>\n<style scoped>\n    .dataframe tbody tr th:only-of-type {\n        vertical-align: middle;\n    }\n\n    .dataframe tbody tr th {\n        vertical-align: top;\n    }\n\n    .dataframe thead th {\n        text-align: right;\n    }\n</style>\n<table border=\"1\" class=\"dataframe\">\n  <thead>\n    <tr style=\"text-align: right;\">\n      <th></th>\n      <th>problems</th>\n      <th>total</th>\n      <th>ratio</th>\n    </tr>\n  </thead>\n  <tbody>\n    <tr>\n      <th>5</th>\n      <td>6524.0</td>\n      <td>7335.0</td>\n      <td>0.889434</td>\n    </tr>\n    <tr>\n      <th>6</th>\n      <td>6571.0</td>\n      <td>7392.0</td>\n      <td>0.888934</td>\n    </tr>\n    <tr>\n      <th>V-21008</th>\n      <td>1458.0</td>\n      <td>1740.0</td>\n      <td>0.837931</td>\n    </tr>\n    <tr>\n      <th>terminate by peer user</th>\n      <td>1990.0</td>\n      <td>2523.0</td>\n      <td>0.788744</td>\n    </tr>\n    <tr>\n      <th>H-51042</th>\n      <td>674.0</td>\n      <td>1045.0</td>\n      <td>0.644976</td>\n    </tr>\n    <tr>\n      <th>4</th>\n      <td>12094.0</td>\n      <td>20249.0</td>\n      <td>0.597264</td>\n    </tr>\n    <tr>\n      <th>connection fail to establish</th>\n      <td>59263.0</td>\n      <td>100940.0</td>\n      <td>0.587111</td>\n    </tr>\n    <tr>\n      <th>82</th>\n      <td>589.0</td>\n      <td>1009.0</td>\n      <td>0.583746</td>\n    </tr>\n    <tr>\n      <th>13</th>\n      <td>7016.0</td>\n      <td>12040.0</td>\n      <td>0.582724</td>\n    </tr>\n    <tr>\n      <th>14</th>\n      <td>150728.0</td>\n      <td>263577.0</td>\n      <td>0.571856</td>\n    </tr>\n    <tr>\n      <th>83</th>\n      <td>1182.0</td>\n      <td>2087.0</td>\n      <td>0.566363</td>\n    </tr>\n    <tr>\n      <th>99</th>\n      <td>1337.0</td>\n      <td>2364.0</td>\n      <td>0.565567</td>\n    </tr>\n    <tr>\n      <th>3</th>\n      <td>51345.0</td>\n      <td>91223.0</td>\n      <td>0.562851</td>\n    </tr>\n    <tr>\n      <th>88</th>\n      <td>655.0</td>\n      <td>1168.0</td>\n      <td>0.560788</td>\n    </tr>\n    <tr>\n      <th>connection timeout</th>\n      <td>1025237.0</td>\n      <td>1835600.0</td>\n      <td>0.558530</td>\n    </tr>\n    <tr>\n      <th>100</th>\n      <td>1447.0</td>\n      <td>2602.0</td>\n      <td>0.556111</td>\n    </tr>\n    <tr>\n      <th>connectionterminated by local host</th>\n      <td>2153.0</td>\n      <td>4011.0</td>\n      <td>0.536774</td>\n    </tr>\n    <tr>\n      <th>91</th>\n      <td>536.0</td>\n      <td>1001.0</td>\n      <td>0.535465</td>\n    </tr>\n    <tr>\n      <th>UNKNOWN</th>\n      <td>2084.0</td>\n      <td>3914.0</td>\n      <td>0.532448</td>\n    </tr>\n    <tr>\n      <th>95</th>\n      <td>12473.0</td>\n      <td>23452.0</td>\n      <td>0.531852</td>\n    </tr>\n    <tr>\n      <th>87</th>\n      <td>679.0</td>\n      <td>1279.0</td>\n      <td>0.530884</td>\n    </tr>\n    <tr>\n      <th>94</th>\n      <td>11737.0</td>\n      <td>22118.0</td>\n      <td>0.530654</td>\n    </tr>\n    <tr>\n      <th>78</th>\n      <td>2644.0</td>\n      <td>5028.0</td>\n      <td>0.525855</td>\n    </tr>\n    <tr>\n      <th>89</th>\n      <td>33789.0</td>\n      <td>64799.0</td>\n      <td>0.521443</td>\n    </tr>\n    <tr>\n      <th>90</th>\n      <td>34399.0</td>\n      <td>65992.0</td>\n      <td>0.521260</td>\n    </tr>\n    <tr>\n      <th>81</th>\n      <td>2233.0</td>\n      <td>4339.0</td>\n      <td>0.514635</td>\n    </tr>\n    <tr>\n      <th>86</th>\n      <td>2045.0</td>\n      <td>4023.0</td>\n      <td>0.508327</td>\n    </tr>\n    <tr>\n      <th>active</th>\n      <td>111323.0</td>\n      <td>219238.0</td>\n      <td>0.507772</td>\n    </tr>\n    <tr>\n      <th>85</th>\n      <td>64549.0</td>\n      <td>127744.0</td>\n      <td>0.505300</td>\n    </tr>\n    <tr>\n      <th>84</th>\n      <td>65521.0</td>\n      <td>129876.0</td>\n      <td>0.504489</td>\n    </tr>\n    <tr>\n      <th>2</th>\n      <td>80781.0</td>\n      <td>166382.0</td>\n      <td>0.485515</td>\n    </tr>\n    <tr>\n      <th>NFANDROID2</th>\n      <td>48787.0</td>\n      <td>104138.0</td>\n      <td>0.468484</td>\n    </tr>\n    <tr>\n      <th>S-61001</th>\n      <td>15933.0</td>\n      <td>34631.0</td>\n      <td>0.460079</td>\n    </tr>\n    <tr>\n      <th>1</th>\n      <td>4075428.0</td>\n      <td>8906967.0</td>\n      <td>0.457555</td>\n    </tr>\n    <tr>\n      <th>80</th>\n      <td>150201.0</td>\n      <td>334018.0</td>\n      <td>0.449679</td>\n    </tr>\n    <tr>\n      <th>79</th>\n      <td>149407.0</td>\n      <td>332422.0</td>\n      <td>0.449450</td>\n    </tr>\n    <tr>\n      <th>B-A8002</th>\n      <td>401056.0</td>\n      <td>897863.0</td>\n      <td>0.446678</td>\n    </tr>\n    <tr>\n      <th>standby</th>\n      <td>48323.0</td>\n      <td>110370.0</td>\n      <td>0.437827</td>\n    </tr>\n    <tr>\n      <th>8.0</th>\n      <td>3860.0</td>\n      <td>9317.0</td>\n      <td>0.414296</td>\n    </tr>\n    <tr>\n      <th>0</th>\n      <td>929364.0</td>\n      <td>2599123.0</td>\n      <td>0.357568</td>\n    </tr>\n    <tr>\n      <th>S-65002</th>\n      <td>463.0</td>\n      <td>1583.0</td>\n      <td>0.292483</td>\n    </tr>\n    <tr>\n      <th>Q-64002</th>\n      <td>2917.0</td>\n      <td>11959.0</td>\n      <td>0.243917</td>\n    </tr>\n  </tbody>\n</table>\n</div>"
     },
     "metadata": {},
     "execution_count": 9
    }
   ],
   "source": [
    "sorted_code_df"
   ]
  },
  {
   "cell_type": "code",
   "execution_count": 10,
   "metadata": {},
   "outputs": [
    {
     "output_type": "execute_result",
     "data": {
      "text/plain": [
       "'# of errcodes: 2806'"
      ]
     },
     "metadata": {},
     "execution_count": 10
    }
   ],
   "source": [
    "f'# of errcodes: {len(code_df)}'"
   ]
  },
  {
   "source": [
    "# model_nm 개수 세기"
   ],
   "cell_type": "markdown",
   "metadata": {}
  },
  {
   "cell_type": "code",
   "execution_count": 11,
   "metadata": {},
   "outputs": [
    {
     "output_type": "execute_result",
     "data": {
      "text/plain": [
       "array(['model_3', 'model_2', 'model_0', 'model_1', 'model_7', 'model_4',\n",
       "       'model_5', 'model_8', 'model_6'], dtype=object)"
      ]
     },
     "metadata": {},
     "execution_count": 11
    }
   ],
   "source": [
    "train_err['model_nm'].unique()"
   ]
  },
  {
   "source": [
    "test_err['model_nm'].unique()"
   ],
   "cell_type": "code",
   "metadata": {},
   "execution_count": 12,
   "outputs": [
    {
     "output_type": "execute_result",
     "data": {
      "text/plain": [
       "array(['model_1', 'model_2', 'model_3', 'model_0', 'model_4', 'model_5',\n",
       "       'model_6', 'model_7', 'model_8'], dtype=object)"
      ]
     },
     "metadata": {},
     "execution_count": 12
    }
   ]
  },
  {
   "source": [
    "# fwver 개수 세기"
   ],
   "cell_type": "markdown",
   "metadata": {}
  },
  {
   "cell_type": "code",
   "execution_count": 13,
   "metadata": {},
   "outputs": [
    {
     "output_type": "display_data",
     "data": {
      "text/plain": "array(['05.15.2138', '04.33.1185', '04.33.1261', '04.22.1750',\n       '04.22.1778', '04.16.3553', '04.33.1149', '04.16.3571',\n       '05.66.3237', '05.66.3571', '03.11.1149', '04.22.1684',\n       '03.11.1167', '04.82.1684', '04.82.1778', '04.33.1171',\n       '04.73.2237', '10', '04.82.1730', '04.73.2571', '8.5.3',\n       '04.22.1666', '03.11.1141', '05.15.2120', '04.33.1125',\n       '04.16.3439', '04.22.1442', '04.33.1095', '04.16.3569',\n       '05.15.2090', '05.15.3104', '05.15.2122', '04.22.1656',\n       '04.16.2641', '05.15.2114', '04.16.3345', '05.15.2092'],\n      dtype=object)"
     },
     "metadata": {}
    },
    {
     "output_type": "execute_result",
     "data": {
      "text/plain": [
       "37"
      ]
     },
     "metadata": {},
     "execution_count": 13
    }
   ],
   "source": [
    "fwvers = train_err['fwver'].unique()\n",
    "display(fwvers)\n",
    "len(fwvers)"
   ]
  },
  {
   "cell_type": "code",
   "execution_count": 14,
   "metadata": {},
   "outputs": [
    {
     "output_type": "display_data",
     "data": {
      "text/plain": "array(['04.16.3553', '04.16.3571', '04.33.1261', '05.15.2138',\n       '04.22.1750', '04.22.1778', '04.33.1149', '03.11.1167',\n       '04.33.1185', '04.22.1684', '05.15.2120', '04.82.1684',\n       '04.82.1778', '10', '05.66.3237', '04.73.2569', '04.73.2571',\n       '04.73.2237', '04.73.2577', '04.82.1730', '04.22.1478', '8.5.3',\n       '04.22.1666', '04.22.1656', '03.11.1149', '04.33.1171',\n       '05.66.3571', '04.16.3439', '05.15.2092', '03.11.1141',\n       '04.22.1608', '05.15.3104', '04.33.1125', '04.22.1448',\n       '05.15.2114', '10.22.1770', '10.22.1780', '04.16.3569',\n       '04.22.1772', '04.22.1170'], dtype=object)"
     },
     "metadata": {}
    },
    {
     "output_type": "execute_result",
     "data": {
      "text/plain": [
       "40"
      ]
     },
     "metadata": {},
     "execution_count": 14
    }
   ],
   "source": [
    "fwvers = test_err['fwver'].unique()\n",
    "display(fwvers)\n",
    "len(fwvers)"
   ]
  },
  {
   "source": [
    "# finding min and max of time"
   ],
   "cell_type": "markdown",
   "metadata": {}
  },
  {
   "cell_type": "code",
   "execution_count": 15,
   "metadata": {},
   "outputs": [
    {
     "output_type": "stream",
     "name": "stdout",
     "text": [
      "20201031235959 20201202185152\n20201031235959 20201214120118\n"
     ]
    }
   ],
   "source": [
    "print(train_err['time'].min(), train_err['time'].max())\n",
    "print(test_err['time'].min(), test_err['time'].max())"
   ]
  },
  {
   "cell_type": "code",
   "execution_count": 16,
   "metadata": {},
   "outputs": [],
   "source": [
    "from datetime import datetime\n",
    "\n",
    "def to_datetime(time):\n",
    "    year = time // 10000000000\n",
    "    month = time // 100000000 % 100\n",
    "    day = time // 1000000 % 100\n",
    "    hour = time // 10000 % 100\n",
    "    minute = time // 100 % 100\n",
    "    second = time % 100\n",
    "    return datetime(year, month, day, hour, minute, second)"
   ]
  },
  {
   "cell_type": "code",
   "execution_count": 17,
   "metadata": {},
   "outputs": [
    {
     "output_type": "execute_result",
     "data": {
      "text/plain": [
       "2746313.0"
      ]
     },
     "metadata": {},
     "execution_count": 17
    }
   ],
   "source": [
    "diff = to_datetime(train_err['time'].max()) - to_datetime(train_err['time'].min())\n",
    "diff.total_seconds()"
   ]
  }
 ]
}