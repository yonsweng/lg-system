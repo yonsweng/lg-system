{
 "metadata": {
  "language_info": {
   "codemirror_mode": {
    "name": "ipython",
    "version": 3
   },
   "file_extension": ".py",
   "mimetype": "text/x-python",
   "name": "python",
   "nbconvert_exporter": "python",
   "pygments_lexer": "ipython3",
   "version": "3.9.1-final"
  },
  "orig_nbformat": 2,
  "kernelspec": {
   "name": "python3",
   "display_name": "Python 3",
   "language": "python"
  }
 },
 "nbformat": 4,
 "nbformat_minor": 2,
 "cells": [
  {
   "cell_type": "code",
   "execution_count": 2,
   "metadata": {},
   "outputs": [],
   "source": [
    "import pandas as pd\n",
    "import numpy as np\n",
    "from collections import OrderedDict"
   ]
  },
  {
   "cell_type": "code",
   "execution_count": 3,
   "metadata": {},
   "outputs": [],
   "source": [
    "PATH = '../data'\n",
    "train_err = pd.read_csv(os.path.join(PATH, 'train_err_data.csv'))\n",
    "train_problem = pd.read_csv(os.path.join(PATH, 'train_problem_data.csv'))"
   ]
  },
  {
   "source": [
    "errtype e를 가진 사람 중 불만이 있는 사람 세기"
   ],
   "cell_type": "markdown",
   "metadata": {}
  },
  {
   "cell_type": "code",
   "execution_count": 4,
   "metadata": {},
   "outputs": [
    {
     "output_type": "stream",
     "name": "stdout",
     "text": [
      "CPU times: user 58.2 s, sys: 70.5 ms, total: 58.3 s\nWall time: 58.3 s\n"
     ]
    }
   ],
   "source": [
    "%%time\n",
    "# train_err array\n",
    "te = train_err[['user_id', 'time', 'errtype']].values\n",
    "\n",
    "# train_problem array\n",
    "tp = train_problem.values\n",
    "tp = tp[tp[:, 0].argsort()]\n",
    "# tp = tp[tp[:, 1].argsort()]  # sort by time\n",
    "\n",
    "dic = {}\n",
    "\n",
    "for i in range(len(te)):\n",
    "    row = te[i]\n",
    "    user_id, time, errtype = row[0], row[1], row[2]\n",
    "\n",
    "    # time_lower_bound = np.searchsorted(tp[:, 1], time)\n",
    "    # time_upper_bound = np.searchsorted(tp[:, 1], time, side='right')\n",
    "    # selected = time_lower_bound + np.searchsorted(tp[time_lower_bound:time_upper_bound, 0], user_id)\n",
    "    selected = np.searchsorted(tp[:, 0], user_id)\n",
    "\n",
    "    if errtype not in dic:\n",
    "        dic[errtype] = {'problems': 0, 'total': 0}\n",
    "\n",
    "    if selected < len(tp) and tp[selected, 0] == user_id:\n",
    "        dic[errtype]['problems'] += 1\n",
    "    dic[errtype]['total'] += 1"
   ]
  },
  {
   "cell_type": "code",
   "execution_count": 5,
   "metadata": {},
   "outputs": [
    {
     "output_type": "execute_result",
     "data": {
      "text/plain": [
       "     problems      total     ratio\n",
       "25     1060.0     1184.0  0.895270\n",
       "18     2339.0     2671.0  0.875702\n",
       "20     1809.0     2080.0  0.869712\n",
       "19      554.0      664.0  0.834337\n",
       "21      506.0      607.0  0.833608\n",
       "34   122748.0   165536.0  0.741518\n",
       "10    96989.0   133403.0  0.727038\n",
       "35     7406.0    10187.0  0.727005\n",
       "13    16363.0    22843.0  0.716324\n",
       "30      281.0      402.0  0.699005\n",
       "7     30025.0    51993.0  0.577482\n",
       "6     28187.0    50482.0  0.558357\n",
       "39     8819.0    15820.0  0.557459\n",
       "23  1250243.0  2276515.0  0.549192\n",
       "27   294144.0   540804.0  0.543901\n",
       "28   294513.0   544306.0  0.541080\n",
       "38     2349.0     4539.0  0.517515\n",
       "22   964736.0  1865361.0  0.517185\n",
       "14   125541.0   252015.0  0.498149\n",
       "9        54.0      109.0  0.495413\n",
       "32   538238.0  1130564.0  0.476079\n",
       "41    48787.0   104138.0  0.468484\n",
       "17    21257.0    46009.0  0.462018\n",
       "3     13940.0    30758.0  0.453215\n",
       "24    17646.0    39071.0  0.451639\n",
       "40   327526.0   730378.0  0.448434\n",
       "5    423956.0   952920.0  0.444902\n",
       "31   868235.0  1985294.0  0.437333\n",
       "12   132926.0   320181.0  0.415159\n",
       "37     3874.0     9336.0  0.414953\n",
       "36     3860.0     9317.0  0.414296\n",
       "11   126391.0   307030.0  0.411657\n",
       "16   513531.0  1249376.0  0.411030\n",
       "15   640140.0  1604951.0  0.398853\n",
       "33    69366.0   178477.0  0.388655\n",
       "26   202030.0   536401.0  0.376640\n",
       "2      9310.0    26106.0  0.356623\n",
       "42    11905.0    34374.0  0.346337\n",
       "4    363153.0  1296750.0  0.280049\n",
       "1      4016.0    21545.0  0.186401\n",
       "8        28.0      166.0  0.168675"
      ],
      "text/html": "<div>\n<style scoped>\n    .dataframe tbody tr th:only-of-type {\n        vertical-align: middle;\n    }\n\n    .dataframe tbody tr th {\n        vertical-align: top;\n    }\n\n    .dataframe thead th {\n        text-align: right;\n    }\n</style>\n<table border=\"1\" class=\"dataframe\">\n  <thead>\n    <tr style=\"text-align: right;\">\n      <th></th>\n      <th>problems</th>\n      <th>total</th>\n      <th>ratio</th>\n    </tr>\n  </thead>\n  <tbody>\n    <tr>\n      <th>25</th>\n      <td>1060.0</td>\n      <td>1184.0</td>\n      <td>0.895270</td>\n    </tr>\n    <tr>\n      <th>18</th>\n      <td>2339.0</td>\n      <td>2671.0</td>\n      <td>0.875702</td>\n    </tr>\n    <tr>\n      <th>20</th>\n      <td>1809.0</td>\n      <td>2080.0</td>\n      <td>0.869712</td>\n    </tr>\n    <tr>\n      <th>19</th>\n      <td>554.0</td>\n      <td>664.0</td>\n      <td>0.834337</td>\n    </tr>\n    <tr>\n      <th>21</th>\n      <td>506.0</td>\n      <td>607.0</td>\n      <td>0.833608</td>\n    </tr>\n    <tr>\n      <th>34</th>\n      <td>122748.0</td>\n      <td>165536.0</td>\n      <td>0.741518</td>\n    </tr>\n    <tr>\n      <th>10</th>\n      <td>96989.0</td>\n      <td>133403.0</td>\n      <td>0.727038</td>\n    </tr>\n    <tr>\n      <th>35</th>\n      <td>7406.0</td>\n      <td>10187.0</td>\n      <td>0.727005</td>\n    </tr>\n    <tr>\n      <th>13</th>\n      <td>16363.0</td>\n      <td>22843.0</td>\n      <td>0.716324</td>\n    </tr>\n    <tr>\n      <th>30</th>\n      <td>281.0</td>\n      <td>402.0</td>\n      <td>0.699005</td>\n    </tr>\n    <tr>\n      <th>7</th>\n      <td>30025.0</td>\n      <td>51993.0</td>\n      <td>0.577482</td>\n    </tr>\n    <tr>\n      <th>6</th>\n      <td>28187.0</td>\n      <td>50482.0</td>\n      <td>0.558357</td>\n    </tr>\n    <tr>\n      <th>39</th>\n      <td>8819.0</td>\n      <td>15820.0</td>\n      <td>0.557459</td>\n    </tr>\n    <tr>\n      <th>23</th>\n      <td>1250243.0</td>\n      <td>2276515.0</td>\n      <td>0.549192</td>\n    </tr>\n    <tr>\n      <th>27</th>\n      <td>294144.0</td>\n      <td>540804.0</td>\n      <td>0.543901</td>\n    </tr>\n    <tr>\n      <th>28</th>\n      <td>294513.0</td>\n      <td>544306.0</td>\n      <td>0.541080</td>\n    </tr>\n    <tr>\n      <th>38</th>\n      <td>2349.0</td>\n      <td>4539.0</td>\n      <td>0.517515</td>\n    </tr>\n    <tr>\n      <th>22</th>\n      <td>964736.0</td>\n      <td>1865361.0</td>\n      <td>0.517185</td>\n    </tr>\n    <tr>\n      <th>14</th>\n      <td>125541.0</td>\n      <td>252015.0</td>\n      <td>0.498149</td>\n    </tr>\n    <tr>\n      <th>9</th>\n      <td>54.0</td>\n      <td>109.0</td>\n      <td>0.495413</td>\n    </tr>\n    <tr>\n      <th>32</th>\n      <td>538238.0</td>\n      <td>1130564.0</td>\n      <td>0.476079</td>\n    </tr>\n    <tr>\n      <th>41</th>\n      <td>48787.0</td>\n      <td>104138.0</td>\n      <td>0.468484</td>\n    </tr>\n    <tr>\n      <th>17</th>\n      <td>21257.0</td>\n      <td>46009.0</td>\n      <td>0.462018</td>\n    </tr>\n    <tr>\n      <th>3</th>\n      <td>13940.0</td>\n      <td>30758.0</td>\n      <td>0.453215</td>\n    </tr>\n    <tr>\n      <th>24</th>\n      <td>17646.0</td>\n      <td>39071.0</td>\n      <td>0.451639</td>\n    </tr>\n    <tr>\n      <th>40</th>\n      <td>327526.0</td>\n      <td>730378.0</td>\n      <td>0.448434</td>\n    </tr>\n    <tr>\n      <th>5</th>\n      <td>423956.0</td>\n      <td>952920.0</td>\n      <td>0.444902</td>\n    </tr>\n    <tr>\n      <th>31</th>\n      <td>868235.0</td>\n      <td>1985294.0</td>\n      <td>0.437333</td>\n    </tr>\n    <tr>\n      <th>12</th>\n      <td>132926.0</td>\n      <td>320181.0</td>\n      <td>0.415159</td>\n    </tr>\n    <tr>\n      <th>37</th>\n      <td>3874.0</td>\n      <td>9336.0</td>\n      <td>0.414953</td>\n    </tr>\n    <tr>\n      <th>36</th>\n      <td>3860.0</td>\n      <td>9317.0</td>\n      <td>0.414296</td>\n    </tr>\n    <tr>\n      <th>11</th>\n      <td>126391.0</td>\n      <td>307030.0</td>\n      <td>0.411657</td>\n    </tr>\n    <tr>\n      <th>16</th>\n      <td>513531.0</td>\n      <td>1249376.0</td>\n      <td>0.411030</td>\n    </tr>\n    <tr>\n      <th>15</th>\n      <td>640140.0</td>\n      <td>1604951.0</td>\n      <td>0.398853</td>\n    </tr>\n    <tr>\n      <th>33</th>\n      <td>69366.0</td>\n      <td>178477.0</td>\n      <td>0.388655</td>\n    </tr>\n    <tr>\n      <th>26</th>\n      <td>202030.0</td>\n      <td>536401.0</td>\n      <td>0.376640</td>\n    </tr>\n    <tr>\n      <th>2</th>\n      <td>9310.0</td>\n      <td>26106.0</td>\n      <td>0.356623</td>\n    </tr>\n    <tr>\n      <th>42</th>\n      <td>11905.0</td>\n      <td>34374.0</td>\n      <td>0.346337</td>\n    </tr>\n    <tr>\n      <th>4</th>\n      <td>363153.0</td>\n      <td>1296750.0</td>\n      <td>0.280049</td>\n    </tr>\n    <tr>\n      <th>1</th>\n      <td>4016.0</td>\n      <td>21545.0</td>\n      <td>0.186401</td>\n    </tr>\n    <tr>\n      <th>8</th>\n      <td>28.0</td>\n      <td>166.0</td>\n      <td>0.168675</td>\n    </tr>\n  </tbody>\n</table>\n</div>"
     },
     "metadata": {},
     "execution_count": 5
    }
   ],
   "source": [
    "for errtype in dic:\n",
    "    dic[errtype]['ratio'] = dic[errtype]['problems'] / dic[errtype]['total']\n",
    "\n",
    "dic = OrderedDict(sorted(dic.items(), key=lambda kv: kv[1]['ratio'], reverse=True))\n",
    "pd.DataFrame(dic).T"
   ]
  },
  {
   "source": [
    "errcode c를 가진 사람 중 불만이 있는 사람 세기"
   ],
   "cell_type": "markdown",
   "metadata": {}
  },
  {
   "cell_type": "code",
   "execution_count": 6,
   "metadata": {},
   "outputs": [
    {
     "output_type": "stream",
     "name": "stdout",
     "text": [
      "CPU times: user 49.8 s, sys: 900 ms, total: 50.7 s\nWall time: 50.7 s\n"
     ]
    }
   ],
   "source": [
    "%%time\n",
    "# train_err array\n",
    "te = train_err[['user_id', 'time', 'errcode']].values\n",
    "\n",
    "# train_problem array\n",
    "tp = train_problem.values\n",
    "tp = tp[tp[:, 0].argsort()]\n",
    "# tp = tp[tp[:, 1].argsort()]\n",
    "\n",
    "dic = {}\n",
    "\n",
    "for i in range(len(te)):\n",
    "    row = te[i]\n",
    "    user_id, time, errcode = row[0], row[1], row[2]\n",
    "\n",
    "    # time_lower_bound = np.searchsorted(tp[:, 1], time)\n",
    "    # time_upper_bound = np.searchsorted(tp[:, 1], time, side='right')\n",
    "    # selected = time_lower_bound + np.searchsorted(tp[time_lower_bound:time_upper_bound, 0], user_id)\n",
    "    selected = np.searchsorted(tp[:, 0], user_id)\n",
    "\n",
    "    if errcode not in dic:\n",
    "        dic[errcode] = {'problems': 0, 'total': 0}\n",
    "\n",
    "    if selected < len(tp) and tp[selected, 0] == user_id:\n",
    "        dic[errcode]['problems'] += 1\n",
    "    dic[errcode]['total'] += 1"
   ]
  },
  {
   "cell_type": "code",
   "execution_count": 10,
   "metadata": {},
   "outputs": [
    {
     "output_type": "display_data",
     "data": {
      "text/plain": "        problems  total  ratio\n6467         1.0    1.0    1.0\n4893         1.0    1.0    1.0\n39391        1.0    1.0    1.0\n3113         2.0    2.0    1.0\n3758         1.0    1.0    1.0\n5007         1.0    1.0    1.0\n4714         1.0    1.0    1.0\n4358         1.0    1.0    1.0\n5752         2.0    2.0    1.0\n108133       1.0    1.0    1.0\n6502         1.0    1.0    1.0\n4049         1.0    1.0    1.0\n7433         1.0    1.0    1.0\n7396         1.0    1.0    1.0\n6093         2.0    2.0    1.0\n5113         2.0    2.0    1.0\n3975         1.0    1.0    1.0\n4231         2.0    2.0    1.0\n6175         1.0    1.0    1.0\n6679         1.0    1.0    1.0\n9232         1.0    1.0    1.0\n5372         1.0    1.0    1.0\n5168         1.0    1.0    1.0\n4922         2.0    2.0    1.0\n6714         1.0    1.0    1.0\n8391         1.0    1.0    1.0",
      "text/html": "<div>\n<style scoped>\n    .dataframe tbody tr th:only-of-type {\n        vertical-align: middle;\n    }\n\n    .dataframe tbody tr th {\n        vertical-align: top;\n    }\n\n    .dataframe thead th {\n        text-align: right;\n    }\n</style>\n<table border=\"1\" class=\"dataframe\">\n  <thead>\n    <tr style=\"text-align: right;\">\n      <th></th>\n      <th>problems</th>\n      <th>total</th>\n      <th>ratio</th>\n    </tr>\n  </thead>\n  <tbody>\n    <tr>\n      <th>6467</th>\n      <td>1.0</td>\n      <td>1.0</td>\n      <td>1.0</td>\n    </tr>\n    <tr>\n      <th>4893</th>\n      <td>1.0</td>\n      <td>1.0</td>\n      <td>1.0</td>\n    </tr>\n    <tr>\n      <th>39391</th>\n      <td>1.0</td>\n      <td>1.0</td>\n      <td>1.0</td>\n    </tr>\n    <tr>\n      <th>3113</th>\n      <td>2.0</td>\n      <td>2.0</td>\n      <td>1.0</td>\n    </tr>\n    <tr>\n      <th>3758</th>\n      <td>1.0</td>\n      <td>1.0</td>\n      <td>1.0</td>\n    </tr>\n    <tr>\n      <th>5007</th>\n      <td>1.0</td>\n      <td>1.0</td>\n      <td>1.0</td>\n    </tr>\n    <tr>\n      <th>4714</th>\n      <td>1.0</td>\n      <td>1.0</td>\n      <td>1.0</td>\n    </tr>\n    <tr>\n      <th>4358</th>\n      <td>1.0</td>\n      <td>1.0</td>\n      <td>1.0</td>\n    </tr>\n    <tr>\n      <th>5752</th>\n      <td>2.0</td>\n      <td>2.0</td>\n      <td>1.0</td>\n    </tr>\n    <tr>\n      <th>108133</th>\n      <td>1.0</td>\n      <td>1.0</td>\n      <td>1.0</td>\n    </tr>\n    <tr>\n      <th>6502</th>\n      <td>1.0</td>\n      <td>1.0</td>\n      <td>1.0</td>\n    </tr>\n    <tr>\n      <th>4049</th>\n      <td>1.0</td>\n      <td>1.0</td>\n      <td>1.0</td>\n    </tr>\n    <tr>\n      <th>7433</th>\n      <td>1.0</td>\n      <td>1.0</td>\n      <td>1.0</td>\n    </tr>\n    <tr>\n      <th>7396</th>\n      <td>1.0</td>\n      <td>1.0</td>\n      <td>1.0</td>\n    </tr>\n    <tr>\n      <th>6093</th>\n      <td>2.0</td>\n      <td>2.0</td>\n      <td>1.0</td>\n    </tr>\n    <tr>\n      <th>5113</th>\n      <td>2.0</td>\n      <td>2.0</td>\n      <td>1.0</td>\n    </tr>\n    <tr>\n      <th>3975</th>\n      <td>1.0</td>\n      <td>1.0</td>\n      <td>1.0</td>\n    </tr>\n    <tr>\n      <th>4231</th>\n      <td>2.0</td>\n      <td>2.0</td>\n      <td>1.0</td>\n    </tr>\n    <tr>\n      <th>6175</th>\n      <td>1.0</td>\n      <td>1.0</td>\n      <td>1.0</td>\n    </tr>\n    <tr>\n      <th>6679</th>\n      <td>1.0</td>\n      <td>1.0</td>\n      <td>1.0</td>\n    </tr>\n    <tr>\n      <th>9232</th>\n      <td>1.0</td>\n      <td>1.0</td>\n      <td>1.0</td>\n    </tr>\n    <tr>\n      <th>5372</th>\n      <td>1.0</td>\n      <td>1.0</td>\n      <td>1.0</td>\n    </tr>\n    <tr>\n      <th>5168</th>\n      <td>1.0</td>\n      <td>1.0</td>\n      <td>1.0</td>\n    </tr>\n    <tr>\n      <th>4922</th>\n      <td>2.0</td>\n      <td>2.0</td>\n      <td>1.0</td>\n    </tr>\n    <tr>\n      <th>6714</th>\n      <td>1.0</td>\n      <td>1.0</td>\n      <td>1.0</td>\n    </tr>\n    <tr>\n      <th>8391</th>\n      <td>1.0</td>\n      <td>1.0</td>\n      <td>1.0</td>\n    </tr>\n  </tbody>\n</table>\n</div>"
     },
     "metadata": {}
    },
    {
     "output_type": "display_data",
     "data": {
      "text/plain": "         problems  total  ratio\n3097          0.0    1.0    0.0\n5444          0.0    1.0    0.0\n5958          0.0    1.0    0.0\n98606         0.0    1.0    0.0\n3236          0.0    1.0    0.0\n3327          0.0    2.0    0.0\n4530          0.0    1.0    0.0\n5692          0.0    1.0    0.0\n230685        0.0    1.0    0.0\n3387          0.0    1.0    0.0\n3399          0.0    1.0    0.0\n82415         0.0    1.0    0.0\n46857         0.0    1.0    0.0\n8760          0.0    1.0    0.0\nP_41001       0.0    1.0    0.0\nP-41001       0.0    1.0    0.0\n5647          0.0    1.0    0.0\n4470          0.0    1.0    0.0\n21417         0.0    1.0    0.0\n3829          0.0    1.0    0.0\n1858238       0.0    1.0    0.0\n3274          0.0    1.0    0.0\n25990         0.0    1.0    0.0\n4396          0.0    1.0    0.0\n65            0.0    3.0    0.0\n67            0.0    1.0    0.0\n66            0.0    1.0    0.0\n10715         0.0    1.0    0.0\n3239          0.0    1.0    0.0\n3720          0.0    1.0    0.0\n14708         0.0    1.0    0.0\n10743         0.0    1.0    0.0\n38316         0.0    1.0    0.0\n103924        0.0    1.0    0.0\n23938         0.0    1.0    0.0\n38906         0.0    1.0    0.0\n7138          0.0    1.0    0.0\n5419          0.0    1.0    0.0\n5542          0.0    1.0    0.0\n6011          0.0    1.0    0.0\n3682          0.0    1.0    0.0\n5769          0.0    1.0    0.0\n3747          0.0    1.0    0.0\n9551          0.0    1.0    0.0\n5204          0.0    1.0    0.0\n6826          0.0    1.0    0.0\n6102          0.0    1.0    0.0\n4526          0.0    1.0    0.0\n3965          0.0    1.0    0.0\n25999         0.0    1.0    0.0",
      "text/html": "<div>\n<style scoped>\n    .dataframe tbody tr th:only-of-type {\n        vertical-align: middle;\n    }\n\n    .dataframe tbody tr th {\n        vertical-align: top;\n    }\n\n    .dataframe thead th {\n        text-align: right;\n    }\n</style>\n<table border=\"1\" class=\"dataframe\">\n  <thead>\n    <tr style=\"text-align: right;\">\n      <th></th>\n      <th>problems</th>\n      <th>total</th>\n      <th>ratio</th>\n    </tr>\n  </thead>\n  <tbody>\n    <tr>\n      <th>3097</th>\n      <td>0.0</td>\n      <td>1.0</td>\n      <td>0.0</td>\n    </tr>\n    <tr>\n      <th>5444</th>\n      <td>0.0</td>\n      <td>1.0</td>\n      <td>0.0</td>\n    </tr>\n    <tr>\n      <th>5958</th>\n      <td>0.0</td>\n      <td>1.0</td>\n      <td>0.0</td>\n    </tr>\n    <tr>\n      <th>98606</th>\n      <td>0.0</td>\n      <td>1.0</td>\n      <td>0.0</td>\n    </tr>\n    <tr>\n      <th>3236</th>\n      <td>0.0</td>\n      <td>1.0</td>\n      <td>0.0</td>\n    </tr>\n    <tr>\n      <th>3327</th>\n      <td>0.0</td>\n      <td>2.0</td>\n      <td>0.0</td>\n    </tr>\n    <tr>\n      <th>4530</th>\n      <td>0.0</td>\n      <td>1.0</td>\n      <td>0.0</td>\n    </tr>\n    <tr>\n      <th>5692</th>\n      <td>0.0</td>\n      <td>1.0</td>\n      <td>0.0</td>\n    </tr>\n    <tr>\n      <th>230685</th>\n      <td>0.0</td>\n      <td>1.0</td>\n      <td>0.0</td>\n    </tr>\n    <tr>\n      <th>3387</th>\n      <td>0.0</td>\n      <td>1.0</td>\n      <td>0.0</td>\n    </tr>\n    <tr>\n      <th>3399</th>\n      <td>0.0</td>\n      <td>1.0</td>\n      <td>0.0</td>\n    </tr>\n    <tr>\n      <th>82415</th>\n      <td>0.0</td>\n      <td>1.0</td>\n      <td>0.0</td>\n    </tr>\n    <tr>\n      <th>46857</th>\n      <td>0.0</td>\n      <td>1.0</td>\n      <td>0.0</td>\n    </tr>\n    <tr>\n      <th>8760</th>\n      <td>0.0</td>\n      <td>1.0</td>\n      <td>0.0</td>\n    </tr>\n    <tr>\n      <th>P_41001</th>\n      <td>0.0</td>\n      <td>1.0</td>\n      <td>0.0</td>\n    </tr>\n    <tr>\n      <th>P-41001</th>\n      <td>0.0</td>\n      <td>1.0</td>\n      <td>0.0</td>\n    </tr>\n    <tr>\n      <th>5647</th>\n      <td>0.0</td>\n      <td>1.0</td>\n      <td>0.0</td>\n    </tr>\n    <tr>\n      <th>4470</th>\n      <td>0.0</td>\n      <td>1.0</td>\n      <td>0.0</td>\n    </tr>\n    <tr>\n      <th>21417</th>\n      <td>0.0</td>\n      <td>1.0</td>\n      <td>0.0</td>\n    </tr>\n    <tr>\n      <th>3829</th>\n      <td>0.0</td>\n      <td>1.0</td>\n      <td>0.0</td>\n    </tr>\n    <tr>\n      <th>1858238</th>\n      <td>0.0</td>\n      <td>1.0</td>\n      <td>0.0</td>\n    </tr>\n    <tr>\n      <th>3274</th>\n      <td>0.0</td>\n      <td>1.0</td>\n      <td>0.0</td>\n    </tr>\n    <tr>\n      <th>25990</th>\n      <td>0.0</td>\n      <td>1.0</td>\n      <td>0.0</td>\n    </tr>\n    <tr>\n      <th>4396</th>\n      <td>0.0</td>\n      <td>1.0</td>\n      <td>0.0</td>\n    </tr>\n    <tr>\n      <th>65</th>\n      <td>0.0</td>\n      <td>3.0</td>\n      <td>0.0</td>\n    </tr>\n    <tr>\n      <th>67</th>\n      <td>0.0</td>\n      <td>1.0</td>\n      <td>0.0</td>\n    </tr>\n    <tr>\n      <th>66</th>\n      <td>0.0</td>\n      <td>1.0</td>\n      <td>0.0</td>\n    </tr>\n    <tr>\n      <th>10715</th>\n      <td>0.0</td>\n      <td>1.0</td>\n      <td>0.0</td>\n    </tr>\n    <tr>\n      <th>3239</th>\n      <td>0.0</td>\n      <td>1.0</td>\n      <td>0.0</td>\n    </tr>\n    <tr>\n      <th>3720</th>\n      <td>0.0</td>\n      <td>1.0</td>\n      <td>0.0</td>\n    </tr>\n    <tr>\n      <th>14708</th>\n      <td>0.0</td>\n      <td>1.0</td>\n      <td>0.0</td>\n    </tr>\n    <tr>\n      <th>10743</th>\n      <td>0.0</td>\n      <td>1.0</td>\n      <td>0.0</td>\n    </tr>\n    <tr>\n      <th>38316</th>\n      <td>0.0</td>\n      <td>1.0</td>\n      <td>0.0</td>\n    </tr>\n    <tr>\n      <th>103924</th>\n      <td>0.0</td>\n      <td>1.0</td>\n      <td>0.0</td>\n    </tr>\n    <tr>\n      <th>23938</th>\n      <td>0.0</td>\n      <td>1.0</td>\n      <td>0.0</td>\n    </tr>\n    <tr>\n      <th>38906</th>\n      <td>0.0</td>\n      <td>1.0</td>\n      <td>0.0</td>\n    </tr>\n    <tr>\n      <th>7138</th>\n      <td>0.0</td>\n      <td>1.0</td>\n      <td>0.0</td>\n    </tr>\n    <tr>\n      <th>5419</th>\n      <td>0.0</td>\n      <td>1.0</td>\n      <td>0.0</td>\n    </tr>\n    <tr>\n      <th>5542</th>\n      <td>0.0</td>\n      <td>1.0</td>\n      <td>0.0</td>\n    </tr>\n    <tr>\n      <th>6011</th>\n      <td>0.0</td>\n      <td>1.0</td>\n      <td>0.0</td>\n    </tr>\n    <tr>\n      <th>3682</th>\n      <td>0.0</td>\n      <td>1.0</td>\n      <td>0.0</td>\n    </tr>\n    <tr>\n      <th>5769</th>\n      <td>0.0</td>\n      <td>1.0</td>\n      <td>0.0</td>\n    </tr>\n    <tr>\n      <th>3747</th>\n      <td>0.0</td>\n      <td>1.0</td>\n      <td>0.0</td>\n    </tr>\n    <tr>\n      <th>9551</th>\n      <td>0.0</td>\n      <td>1.0</td>\n      <td>0.0</td>\n    </tr>\n    <tr>\n      <th>5204</th>\n      <td>0.0</td>\n      <td>1.0</td>\n      <td>0.0</td>\n    </tr>\n    <tr>\n      <th>6826</th>\n      <td>0.0</td>\n      <td>1.0</td>\n      <td>0.0</td>\n    </tr>\n    <tr>\n      <th>6102</th>\n      <td>0.0</td>\n      <td>1.0</td>\n      <td>0.0</td>\n    </tr>\n    <tr>\n      <th>4526</th>\n      <td>0.0</td>\n      <td>1.0</td>\n      <td>0.0</td>\n    </tr>\n    <tr>\n      <th>3965</th>\n      <td>0.0</td>\n      <td>1.0</td>\n      <td>0.0</td>\n    </tr>\n    <tr>\n      <th>25999</th>\n      <td>0.0</td>\n      <td>1.0</td>\n      <td>0.0</td>\n    </tr>\n  </tbody>\n</table>\n</div>"
     },
     "metadata": {}
    }
   ],
   "source": [
    "for errcode in dic:\n",
    "    dic[errcode]['ratio'] = dic[errcode]['problems'] / dic[errcode]['total']\n",
    "\n",
    "dic = OrderedDict(sorted(dic.items(), key=lambda kv: kv[1]['ratio'], reverse=True))\n",
    "display(pd.DataFrame(dic).T.iloc[:26])\n",
    "display(pd.DataFrame(dic).T.iloc[-50:])"
   ]
  },
  {
   "cell_type": "code",
   "execution_count": 1,
   "metadata": {},
   "outputs": [
    {
     "output_type": "error",
     "ename": "NameError",
     "evalue": "name 'pd' is not defined",
     "traceback": [
      "\u001b[0;31m---------------------------------------------------------------------------\u001b[0m",
      "\u001b[0;31mNameError\u001b[0m                                 Traceback (most recent call last)",
      "\u001b[0;32m<ipython-input-1-0613082ed346>\u001b[0m in \u001b[0;36m<module>\u001b[0;34m\u001b[0m\n\u001b[0;32m----> 1\u001b[0;31m \u001b[0mcode_df\u001b[0m \u001b[0;34m=\u001b[0m \u001b[0mpd\u001b[0m\u001b[0;34m.\u001b[0m\u001b[0mDataFrame\u001b[0m\u001b[0;34m(\u001b[0m\u001b[0mdic\u001b[0m\u001b[0;34m)\u001b[0m\u001b[0;34m.\u001b[0m\u001b[0mT\u001b[0m\u001b[0;34m\u001b[0m\u001b[0;34m\u001b[0m\u001b[0m\n\u001b[0m\u001b[1;32m      2\u001b[0m \u001b[0msum\u001b[0m\u001b[0;34m(\u001b[0m\u001b[0mcode_df\u001b[0m\u001b[0;34m[\u001b[0m\u001b[0;34m'ratio'\u001b[0m\u001b[0;34m]\u001b[0m \u001b[0;34m>\u001b[0m \u001b[0;36m0.0\u001b[0m\u001b[0;34m)\u001b[0m\u001b[0;34m\u001b[0m\u001b[0;34m\u001b[0m\u001b[0m\n",
      "\u001b[0;31mNameError\u001b[0m: name 'pd' is not defined"
     ]
    }
   ],
   "source": [
    "code_df = pd.DataFrame(dic).T\n",
    "sum(code_df['ratio'] > 0.0)"
   ]
  }
 ]
}