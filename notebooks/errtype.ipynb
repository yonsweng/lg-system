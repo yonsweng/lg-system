{
 "metadata": {
  "language_info": {
   "codemirror_mode": {
    "name": "ipython",
    "version": 3
   },
   "file_extension": ".py",
   "mimetype": "text/x-python",
   "name": "python",
   "nbconvert_exporter": "python",
   "pygments_lexer": "ipython3",
   "version": "3.9.1-final"
  },
  "orig_nbformat": 2,
  "kernelspec": {
   "name": "python3",
   "display_name": "Python 3",
   "language": "python"
  }
 },
 "nbformat": 4,
 "nbformat_minor": 2,
 "cells": [
  {
   "source": [
    "errtype e를 가진 사람 중 불만이 있는 사람 세기"
   ],
   "cell_type": "markdown",
   "metadata": {}
  },
  {
   "cell_type": "code",
   "execution_count": 1,
   "metadata": {},
   "outputs": [],
   "source": [
    "import pandas as pd\n",
    "import numpy as np\n",
    "from collections import OrderedDict"
   ]
  },
  {
   "cell_type": "code",
   "execution_count": 2,
   "metadata": {},
   "outputs": [],
   "source": [
    "PATH = '../data'\n",
    "train_err = pd.read_csv(os.path.join(PATH, 'train_err_data.csv'))\n",
    "train_problem = pd.read_csv(os.path.join(PATH, 'train_problem_data.csv'))\n",
    "test_err = pd.read_csv(os.path.join(PATH, 'test_err_data.csv'))"
   ]
  },
  {
   "cell_type": "code",
   "execution_count": 3,
   "metadata": {},
   "outputs": [
    {
     "output_type": "stream",
     "name": "stdout",
     "text": [
      "CPU times: user 2min 11s, sys: 117 ms, total: 2min 11s\nWall time: 2min 11s\n"
     ]
    }
   ],
   "source": [
    "%%time\n",
    "# train_err array\n",
    "te = train_err[['user_id', 'time', 'errtype']].values\n",
    "\n",
    "# train_problem array\n",
    "tp = train_problem.values\n",
    "tp = tp[tp[:, 0].argsort()]\n",
    "tp = tp[tp[:, 1].argsort()]\n",
    "\n",
    "dic = {}\n",
    "\n",
    "for i in range(len(te)):\n",
    "    row = te[i]\n",
    "    user_id, time, errtype = row[0], row[1], row[2]\n",
    "\n",
    "    time_lower_bound = np.searchsorted(tp[:, 1], time)\n",
    "    time_upper_bound = np.searchsorted(tp[:, 1], time, side='right')\n",
    "    selected = time_lower_bound + np.searchsorted(tp[time_lower_bound:time_upper_bound, 0], user_id)\n",
    "\n",
    "    if errtype not in dic:\n",
    "        dic[errtype] = {'problems': 0, 'total': 0}\n",
    "\n",
    "    if selected < len(tp) and tp[selected, 0] == user_id:\n",
    "        dic[errtype]['problems'] += 1\n",
    "    dic[errtype]['total'] += 1"
   ]
  },
  {
   "cell_type": "code",
   "execution_count": 4,
   "metadata": {},
   "outputs": [
    {
     "output_type": "execute_result",
     "data": {
      "text/plain": [
       "    problems      total     ratio\n",
       "35      12.0    10187.0  0.001178\n",
       "25       1.0     1184.0  0.000845\n",
       "18       2.0     2671.0  0.000749\n",
       "3       16.0    30758.0  0.000520\n",
       "20       1.0     2080.0  0.000481\n",
       "38       2.0     4539.0  0.000441\n",
       "13       9.0    22843.0  0.000394\n",
       "7       19.0    51993.0  0.000365\n",
       "6       18.0    50482.0  0.000357\n",
       "14      39.0   252015.0  0.000155\n",
       "10      17.0   133403.0  0.000127\n",
       "12      37.0   320181.0  0.000116\n",
       "5      105.0   952920.0  0.000110\n",
       "36       1.0     9317.0  0.000107\n",
       "37       1.0     9336.0  0.000107\n",
       "11      30.0   307030.0  0.000098\n",
       "34      16.0   165536.0  0.000097\n",
       "40      67.0   730378.0  0.000092\n",
       "17       4.0    46009.0  0.000087\n",
       "41       9.0   104138.0  0.000086\n",
       "33      10.0   178477.0  0.000056\n",
       "26      27.0   536401.0  0.000050\n",
       "15      76.0  1604951.0  0.000047\n",
       "1        1.0    21545.0  0.000046\n",
       "16      56.0  1249376.0  0.000045\n",
       "4       51.0  1296750.0  0.000039\n",
       "32      37.0  1130564.0  0.000033\n",
       "31      64.0  1985294.0  0.000032\n",
       "22      49.0  1865361.0  0.000026\n",
       "23      50.0  2276515.0  0.000022\n",
       "27      10.0   540804.0  0.000018\n",
       "28      10.0   544306.0  0.000018\n",
       "19       0.0      664.0  0.000000\n",
       "21       0.0      607.0  0.000000\n",
       "42       0.0    34374.0  0.000000\n",
       "24       0.0    39071.0  0.000000\n",
       "39       0.0    15820.0  0.000000\n",
       "30       0.0      402.0  0.000000\n",
       "2        0.0    26106.0  0.000000\n",
       "9        0.0      109.0  0.000000\n",
       "8        0.0      166.0  0.000000"
      ],
      "text/html": "<div>\n<style scoped>\n    .dataframe tbody tr th:only-of-type {\n        vertical-align: middle;\n    }\n\n    .dataframe tbody tr th {\n        vertical-align: top;\n    }\n\n    .dataframe thead th {\n        text-align: right;\n    }\n</style>\n<table border=\"1\" class=\"dataframe\">\n  <thead>\n    <tr style=\"text-align: right;\">\n      <th></th>\n      <th>problems</th>\n      <th>total</th>\n      <th>ratio</th>\n    </tr>\n  </thead>\n  <tbody>\n    <tr>\n      <th>35</th>\n      <td>12.0</td>\n      <td>10187.0</td>\n      <td>0.001178</td>\n    </tr>\n    <tr>\n      <th>25</th>\n      <td>1.0</td>\n      <td>1184.0</td>\n      <td>0.000845</td>\n    </tr>\n    <tr>\n      <th>18</th>\n      <td>2.0</td>\n      <td>2671.0</td>\n      <td>0.000749</td>\n    </tr>\n    <tr>\n      <th>3</th>\n      <td>16.0</td>\n      <td>30758.0</td>\n      <td>0.000520</td>\n    </tr>\n    <tr>\n      <th>20</th>\n      <td>1.0</td>\n      <td>2080.0</td>\n      <td>0.000481</td>\n    </tr>\n    <tr>\n      <th>38</th>\n      <td>2.0</td>\n      <td>4539.0</td>\n      <td>0.000441</td>\n    </tr>\n    <tr>\n      <th>13</th>\n      <td>9.0</td>\n      <td>22843.0</td>\n      <td>0.000394</td>\n    </tr>\n    <tr>\n      <th>7</th>\n      <td>19.0</td>\n      <td>51993.0</td>\n      <td>0.000365</td>\n    </tr>\n    <tr>\n      <th>6</th>\n      <td>18.0</td>\n      <td>50482.0</td>\n      <td>0.000357</td>\n    </tr>\n    <tr>\n      <th>14</th>\n      <td>39.0</td>\n      <td>252015.0</td>\n      <td>0.000155</td>\n    </tr>\n    <tr>\n      <th>10</th>\n      <td>17.0</td>\n      <td>133403.0</td>\n      <td>0.000127</td>\n    </tr>\n    <tr>\n      <th>12</th>\n      <td>37.0</td>\n      <td>320181.0</td>\n      <td>0.000116</td>\n    </tr>\n    <tr>\n      <th>5</th>\n      <td>105.0</td>\n      <td>952920.0</td>\n      <td>0.000110</td>\n    </tr>\n    <tr>\n      <th>36</th>\n      <td>1.0</td>\n      <td>9317.0</td>\n      <td>0.000107</td>\n    </tr>\n    <tr>\n      <th>37</th>\n      <td>1.0</td>\n      <td>9336.0</td>\n      <td>0.000107</td>\n    </tr>\n    <tr>\n      <th>11</th>\n      <td>30.0</td>\n      <td>307030.0</td>\n      <td>0.000098</td>\n    </tr>\n    <tr>\n      <th>34</th>\n      <td>16.0</td>\n      <td>165536.0</td>\n      <td>0.000097</td>\n    </tr>\n    <tr>\n      <th>40</th>\n      <td>67.0</td>\n      <td>730378.0</td>\n      <td>0.000092</td>\n    </tr>\n    <tr>\n      <th>17</th>\n      <td>4.0</td>\n      <td>46009.0</td>\n      <td>0.000087</td>\n    </tr>\n    <tr>\n      <th>41</th>\n      <td>9.0</td>\n      <td>104138.0</td>\n      <td>0.000086</td>\n    </tr>\n    <tr>\n      <th>33</th>\n      <td>10.0</td>\n      <td>178477.0</td>\n      <td>0.000056</td>\n    </tr>\n    <tr>\n      <th>26</th>\n      <td>27.0</td>\n      <td>536401.0</td>\n      <td>0.000050</td>\n    </tr>\n    <tr>\n      <th>15</th>\n      <td>76.0</td>\n      <td>1604951.0</td>\n      <td>0.000047</td>\n    </tr>\n    <tr>\n      <th>1</th>\n      <td>1.0</td>\n      <td>21545.0</td>\n      <td>0.000046</td>\n    </tr>\n    <tr>\n      <th>16</th>\n      <td>56.0</td>\n      <td>1249376.0</td>\n      <td>0.000045</td>\n    </tr>\n    <tr>\n      <th>4</th>\n      <td>51.0</td>\n      <td>1296750.0</td>\n      <td>0.000039</td>\n    </tr>\n    <tr>\n      <th>32</th>\n      <td>37.0</td>\n      <td>1130564.0</td>\n      <td>0.000033</td>\n    </tr>\n    <tr>\n      <th>31</th>\n      <td>64.0</td>\n      <td>1985294.0</td>\n      <td>0.000032</td>\n    </tr>\n    <tr>\n      <th>22</th>\n      <td>49.0</td>\n      <td>1865361.0</td>\n      <td>0.000026</td>\n    </tr>\n    <tr>\n      <th>23</th>\n      <td>50.0</td>\n      <td>2276515.0</td>\n      <td>0.000022</td>\n    </tr>\n    <tr>\n      <th>27</th>\n      <td>10.0</td>\n      <td>540804.0</td>\n      <td>0.000018</td>\n    </tr>\n    <tr>\n      <th>28</th>\n      <td>10.0</td>\n      <td>544306.0</td>\n      <td>0.000018</td>\n    </tr>\n    <tr>\n      <th>19</th>\n      <td>0.0</td>\n      <td>664.0</td>\n      <td>0.000000</td>\n    </tr>\n    <tr>\n      <th>21</th>\n      <td>0.0</td>\n      <td>607.0</td>\n      <td>0.000000</td>\n    </tr>\n    <tr>\n      <th>42</th>\n      <td>0.0</td>\n      <td>34374.0</td>\n      <td>0.000000</td>\n    </tr>\n    <tr>\n      <th>24</th>\n      <td>0.0</td>\n      <td>39071.0</td>\n      <td>0.000000</td>\n    </tr>\n    <tr>\n      <th>39</th>\n      <td>0.0</td>\n      <td>15820.0</td>\n      <td>0.000000</td>\n    </tr>\n    <tr>\n      <th>30</th>\n      <td>0.0</td>\n      <td>402.0</td>\n      <td>0.000000</td>\n    </tr>\n    <tr>\n      <th>2</th>\n      <td>0.0</td>\n      <td>26106.0</td>\n      <td>0.000000</td>\n    </tr>\n    <tr>\n      <th>9</th>\n      <td>0.0</td>\n      <td>109.0</td>\n      <td>0.000000</td>\n    </tr>\n    <tr>\n      <th>8</th>\n      <td>0.0</td>\n      <td>166.0</td>\n      <td>0.000000</td>\n    </tr>\n  </tbody>\n</table>\n</div>"
     },
     "metadata": {},
     "execution_count": 4
    }
   ],
   "source": [
    "for errtype in dic:\n",
    "    dic[errtype]['ratio'] = dic[errtype]['problems'] / dic[errtype]['total']\n",
    "\n",
    "dic = OrderedDict(sorted(dic.items(), key=lambda kv: kv[1]['ratio'], reverse=True))\n",
    "pd.DataFrame(dic).T"
   ]
  },
  {
   "cell_type": "code",
   "execution_count": null,
   "metadata": {},
   "outputs": [],
   "source": []
  }
 ]
}