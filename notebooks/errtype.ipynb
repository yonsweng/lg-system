{
 "metadata": {
  "language_info": {
   "codemirror_mode": {
    "name": "ipython",
    "version": 3
   },
   "file_extension": ".py",
   "mimetype": "text/x-python",
   "name": "python",
   "nbconvert_exporter": "python",
   "pygments_lexer": "ipython3",
   "version": "3.9.1-final"
  },
  "orig_nbformat": 2,
  "kernelspec": {
   "name": "python3",
   "display_name": "Python 3",
   "language": "python"
  }
 },
 "nbformat": 4,
 "nbformat_minor": 2,
 "cells": [
  {
   "cell_type": "code",
   "execution_count": 1,
   "metadata": {},
   "outputs": [],
   "source": [
    "import pandas as pd\n",
    "import numpy as np\n",
    "from collections import OrderedDict"
   ]
  },
  {
   "cell_type": "code",
   "execution_count": 2,
   "metadata": {},
   "outputs": [],
   "source": [
    "PATH = '../data'\n",
    "train_err = pd.read_csv(os.path.join(PATH, 'train_err_data.csv'))\n",
    "train_problem = pd.read_csv(os.path.join(PATH, 'train_problem_data.csv'))"
   ]
  },
  {
   "source": [
    "errtype e를 가진 사람 중 불만이 있는 사람 세기"
   ],
   "cell_type": "markdown",
   "metadata": {}
  },
  {
   "cell_type": "code",
   "execution_count": 3,
   "metadata": {},
   "outputs": [
    {
     "output_type": "stream",
     "name": "stdout",
     "text": [
      "CPU times: user 2min 7s, sys: 93.3 ms, total: 2min 7s\nWall time: 2min 7s\n"
     ]
    }
   ],
   "source": [
    "%%time\n",
    "# train_err array\n",
    "te = train_err[['user_id', 'time', 'errtype']].values\n",
    "\n",
    "# train_problem array\n",
    "tp = train_problem.values\n",
    "tp = tp[tp[:, 0].argsort()]\n",
    "tp = tp[tp[:, 1].argsort()]\n",
    "\n",
    "dic = {}\n",
    "\n",
    "for i in range(len(te)):\n",
    "    row = te[i]\n",
    "    user_id, time, errtype = row[0], row[1], row[2]\n",
    "\n",
    "    time_lower_bound = np.searchsorted(tp[:, 1], time)\n",
    "    time_upper_bound = np.searchsorted(tp[:, 1], time, side='right')\n",
    "    selected = time_lower_bound + np.searchsorted(tp[time_lower_bound:time_upper_bound, 0], user_id)\n",
    "\n",
    "    if errtype not in dic:\n",
    "        dic[errtype] = {'problems': 0, 'total': 0}\n",
    "\n",
    "    if selected < len(tp) and tp[selected, 0] == user_id:\n",
    "        dic[errtype]['problems'] += 1\n",
    "    dic[errtype]['total'] += 1"
   ]
  },
  {
   "cell_type": "code",
   "execution_count": 4,
   "metadata": {},
   "outputs": [
    {
     "output_type": "execute_result",
     "data": {
      "text/plain": [
       "    problems      total     ratio\n",
       "35      12.0    10187.0  0.001178\n",
       "25       1.0     1184.0  0.000845\n",
       "18       2.0     2671.0  0.000749\n",
       "3       16.0    30758.0  0.000520\n",
       "20       1.0     2080.0  0.000481\n",
       "38       2.0     4539.0  0.000441\n",
       "13       9.0    22843.0  0.000394\n",
       "7       19.0    51993.0  0.000365\n",
       "6       18.0    50482.0  0.000357\n",
       "14      39.0   252015.0  0.000155\n",
       "10      17.0   133403.0  0.000127\n",
       "12      37.0   320181.0  0.000116\n",
       "5      105.0   952920.0  0.000110\n",
       "36       1.0     9317.0  0.000107\n",
       "37       1.0     9336.0  0.000107\n",
       "11      30.0   307030.0  0.000098\n",
       "34      16.0   165536.0  0.000097\n",
       "40      67.0   730378.0  0.000092\n",
       "17       4.0    46009.0  0.000087\n",
       "41       9.0   104138.0  0.000086\n",
       "33      10.0   178477.0  0.000056\n",
       "26      27.0   536401.0  0.000050\n",
       "15      76.0  1604951.0  0.000047\n",
       "1        1.0    21545.0  0.000046\n",
       "16      56.0  1249376.0  0.000045\n",
       "4       51.0  1296750.0  0.000039\n",
       "32      37.0  1130564.0  0.000033\n",
       "31      64.0  1985294.0  0.000032\n",
       "22      49.0  1865361.0  0.000026\n",
       "23      50.0  2276515.0  0.000022\n",
       "27      10.0   540804.0  0.000018\n",
       "28      10.0   544306.0  0.000018\n",
       "19       0.0      664.0  0.000000\n",
       "21       0.0      607.0  0.000000\n",
       "42       0.0    34374.0  0.000000\n",
       "24       0.0    39071.0  0.000000\n",
       "39       0.0    15820.0  0.000000\n",
       "30       0.0      402.0  0.000000\n",
       "2        0.0    26106.0  0.000000\n",
       "9        0.0      109.0  0.000000\n",
       "8        0.0      166.0  0.000000"
      ],
      "text/html": "<div>\n<style scoped>\n    .dataframe tbody tr th:only-of-type {\n        vertical-align: middle;\n    }\n\n    .dataframe tbody tr th {\n        vertical-align: top;\n    }\n\n    .dataframe thead th {\n        text-align: right;\n    }\n</style>\n<table border=\"1\" class=\"dataframe\">\n  <thead>\n    <tr style=\"text-align: right;\">\n      <th></th>\n      <th>problems</th>\n      <th>total</th>\n      <th>ratio</th>\n    </tr>\n  </thead>\n  <tbody>\n    <tr>\n      <th>35</th>\n      <td>12.0</td>\n      <td>10187.0</td>\n      <td>0.001178</td>\n    </tr>\n    <tr>\n      <th>25</th>\n      <td>1.0</td>\n      <td>1184.0</td>\n      <td>0.000845</td>\n    </tr>\n    <tr>\n      <th>18</th>\n      <td>2.0</td>\n      <td>2671.0</td>\n      <td>0.000749</td>\n    </tr>\n    <tr>\n      <th>3</th>\n      <td>16.0</td>\n      <td>30758.0</td>\n      <td>0.000520</td>\n    </tr>\n    <tr>\n      <th>20</th>\n      <td>1.0</td>\n      <td>2080.0</td>\n      <td>0.000481</td>\n    </tr>\n    <tr>\n      <th>38</th>\n      <td>2.0</td>\n      <td>4539.0</td>\n      <td>0.000441</td>\n    </tr>\n    <tr>\n      <th>13</th>\n      <td>9.0</td>\n      <td>22843.0</td>\n      <td>0.000394</td>\n    </tr>\n    <tr>\n      <th>7</th>\n      <td>19.0</td>\n      <td>51993.0</td>\n      <td>0.000365</td>\n    </tr>\n    <tr>\n      <th>6</th>\n      <td>18.0</td>\n      <td>50482.0</td>\n      <td>0.000357</td>\n    </tr>\n    <tr>\n      <th>14</th>\n      <td>39.0</td>\n      <td>252015.0</td>\n      <td>0.000155</td>\n    </tr>\n    <tr>\n      <th>10</th>\n      <td>17.0</td>\n      <td>133403.0</td>\n      <td>0.000127</td>\n    </tr>\n    <tr>\n      <th>12</th>\n      <td>37.0</td>\n      <td>320181.0</td>\n      <td>0.000116</td>\n    </tr>\n    <tr>\n      <th>5</th>\n      <td>105.0</td>\n      <td>952920.0</td>\n      <td>0.000110</td>\n    </tr>\n    <tr>\n      <th>36</th>\n      <td>1.0</td>\n      <td>9317.0</td>\n      <td>0.000107</td>\n    </tr>\n    <tr>\n      <th>37</th>\n      <td>1.0</td>\n      <td>9336.0</td>\n      <td>0.000107</td>\n    </tr>\n    <tr>\n      <th>11</th>\n      <td>30.0</td>\n      <td>307030.0</td>\n      <td>0.000098</td>\n    </tr>\n    <tr>\n      <th>34</th>\n      <td>16.0</td>\n      <td>165536.0</td>\n      <td>0.000097</td>\n    </tr>\n    <tr>\n      <th>40</th>\n      <td>67.0</td>\n      <td>730378.0</td>\n      <td>0.000092</td>\n    </tr>\n    <tr>\n      <th>17</th>\n      <td>4.0</td>\n      <td>46009.0</td>\n      <td>0.000087</td>\n    </tr>\n    <tr>\n      <th>41</th>\n      <td>9.0</td>\n      <td>104138.0</td>\n      <td>0.000086</td>\n    </tr>\n    <tr>\n      <th>33</th>\n      <td>10.0</td>\n      <td>178477.0</td>\n      <td>0.000056</td>\n    </tr>\n    <tr>\n      <th>26</th>\n      <td>27.0</td>\n      <td>536401.0</td>\n      <td>0.000050</td>\n    </tr>\n    <tr>\n      <th>15</th>\n      <td>76.0</td>\n      <td>1604951.0</td>\n      <td>0.000047</td>\n    </tr>\n    <tr>\n      <th>1</th>\n      <td>1.0</td>\n      <td>21545.0</td>\n      <td>0.000046</td>\n    </tr>\n    <tr>\n      <th>16</th>\n      <td>56.0</td>\n      <td>1249376.0</td>\n      <td>0.000045</td>\n    </tr>\n    <tr>\n      <th>4</th>\n      <td>51.0</td>\n      <td>1296750.0</td>\n      <td>0.000039</td>\n    </tr>\n    <tr>\n      <th>32</th>\n      <td>37.0</td>\n      <td>1130564.0</td>\n      <td>0.000033</td>\n    </tr>\n    <tr>\n      <th>31</th>\n      <td>64.0</td>\n      <td>1985294.0</td>\n      <td>0.000032</td>\n    </tr>\n    <tr>\n      <th>22</th>\n      <td>49.0</td>\n      <td>1865361.0</td>\n      <td>0.000026</td>\n    </tr>\n    <tr>\n      <th>23</th>\n      <td>50.0</td>\n      <td>2276515.0</td>\n      <td>0.000022</td>\n    </tr>\n    <tr>\n      <th>27</th>\n      <td>10.0</td>\n      <td>540804.0</td>\n      <td>0.000018</td>\n    </tr>\n    <tr>\n      <th>28</th>\n      <td>10.0</td>\n      <td>544306.0</td>\n      <td>0.000018</td>\n    </tr>\n    <tr>\n      <th>19</th>\n      <td>0.0</td>\n      <td>664.0</td>\n      <td>0.000000</td>\n    </tr>\n    <tr>\n      <th>21</th>\n      <td>0.0</td>\n      <td>607.0</td>\n      <td>0.000000</td>\n    </tr>\n    <tr>\n      <th>42</th>\n      <td>0.0</td>\n      <td>34374.0</td>\n      <td>0.000000</td>\n    </tr>\n    <tr>\n      <th>24</th>\n      <td>0.0</td>\n      <td>39071.0</td>\n      <td>0.000000</td>\n    </tr>\n    <tr>\n      <th>39</th>\n      <td>0.0</td>\n      <td>15820.0</td>\n      <td>0.000000</td>\n    </tr>\n    <tr>\n      <th>30</th>\n      <td>0.0</td>\n      <td>402.0</td>\n      <td>0.000000</td>\n    </tr>\n    <tr>\n      <th>2</th>\n      <td>0.0</td>\n      <td>26106.0</td>\n      <td>0.000000</td>\n    </tr>\n    <tr>\n      <th>9</th>\n      <td>0.0</td>\n      <td>109.0</td>\n      <td>0.000000</td>\n    </tr>\n    <tr>\n      <th>8</th>\n      <td>0.0</td>\n      <td>166.0</td>\n      <td>0.000000</td>\n    </tr>\n  </tbody>\n</table>\n</div>"
     },
     "metadata": {},
     "execution_count": 4
    }
   ],
   "source": [
    "for errtype in dic:\n",
    "    dic[errtype]['ratio'] = dic[errtype]['problems'] / dic[errtype]['total']\n",
    "\n",
    "dic = OrderedDict(sorted(dic.items(), key=lambda kv: kv[1]['ratio'], reverse=True))\n",
    "pd.DataFrame(dic).T"
   ]
  },
  {
   "source": [
    "errcode c를 가진 사람 중 불만이 있는 사람 세기"
   ],
   "cell_type": "markdown",
   "metadata": {}
  },
  {
   "cell_type": "code",
   "execution_count": 5,
   "metadata": {},
   "outputs": [
    {
     "output_type": "stream",
     "name": "stdout",
     "text": [
      "CPU times: user 1min 50s, sys: 1.02 s, total: 1min 51s\nWall time: 1min 51s\n"
     ]
    }
   ],
   "source": [
    "%%time\n",
    "# train_err array\n",
    "te = train_err[['user_id', 'time', 'errcode']].values\n",
    "\n",
    "# train_problem array\n",
    "tp = train_problem.values\n",
    "tp = tp[tp[:, 0].argsort()]\n",
    "tp = tp[tp[:, 1].argsort()]\n",
    "\n",
    "dic = {}\n",
    "\n",
    "for i in range(len(te)):\n",
    "    row = te[i]\n",
    "    user_id, time, errcode = row[0], row[1], row[2]\n",
    "\n",
    "    time_lower_bound = np.searchsorted(tp[:, 1], time)\n",
    "    time_upper_bound = np.searchsorted(tp[:, 1], time, side='right')\n",
    "    selected = time_lower_bound + np.searchsorted(tp[time_lower_bound:time_upper_bound, 0], user_id)\n",
    "\n",
    "    if errcode not in dic:\n",
    "        dic[errcode] = {'problems': 0, 'total': 0}\n",
    "\n",
    "    if selected < len(tp) and tp[selected, 0] == user_id:\n",
    "        dic[errcode]['problems'] += 1\n",
    "    dic[errcode]['total'] += 1"
   ]
  },
  {
   "cell_type": "code",
   "execution_count": 6,
   "metadata": {},
   "outputs": [
    {
     "output_type": "execute_result",
     "data": {
      "text/plain": [
       "                                    problems      total     ratio\n",
       "5971                                     1.0        2.0  0.500000\n",
       "5934                                     1.0        7.0  0.142857\n",
       "scanning timeout                         1.0      392.0  0.002551\n",
       "21                                       1.0      982.0  0.001018\n",
       "connectionterminated by local host       1.0     4011.0  0.000249\n",
       "13                                       3.0    12040.0  0.000249\n",
       "14                                      31.0   263577.0  0.000118\n",
       "B-A8002                                101.0   897863.0  0.000112\n",
       "3                                       10.0    91223.0  0.000110\n",
       "8.0                                      1.0     9317.0  0.000107\n",
       "4                                        2.0    20249.0  0.000099\n",
       "90                                       6.0    65992.0  0.000091\n",
       "S-61001                                  3.0    34631.0  0.000087\n",
       "NFANDROID2                               9.0   104138.0  0.000086\n",
       "2                                       14.0   166382.0  0.000084\n",
       "Q-64002                                  1.0    11959.0  0.000084\n",
       "89                                       5.0    64799.0  0.000077\n",
       "1                                      463.0  8906967.0  0.000052\n",
       "0                                      118.0  2599123.0  0.000045\n",
       "active                                   9.0   219238.0  0.000041\n",
       "79                                      13.0   332422.0  0.000039\n",
       "80                                      13.0   334018.0  0.000039\n",
       "connection timeout                      37.0  1835600.0  0.000020\n",
       "standby                                  2.0   110370.0  0.000018\n",
       "connection fail to establish             1.0   100940.0  0.000010\n",
       "6796                                     0.0        1.0  0.000000"
      ],
      "text/html": "<div>\n<style scoped>\n    .dataframe tbody tr th:only-of-type {\n        vertical-align: middle;\n    }\n\n    .dataframe tbody tr th {\n        vertical-align: top;\n    }\n\n    .dataframe thead th {\n        text-align: right;\n    }\n</style>\n<table border=\"1\" class=\"dataframe\">\n  <thead>\n    <tr style=\"text-align: right;\">\n      <th></th>\n      <th>problems</th>\n      <th>total</th>\n      <th>ratio</th>\n    </tr>\n  </thead>\n  <tbody>\n    <tr>\n      <th>5971</th>\n      <td>1.0</td>\n      <td>2.0</td>\n      <td>0.500000</td>\n    </tr>\n    <tr>\n      <th>5934</th>\n      <td>1.0</td>\n      <td>7.0</td>\n      <td>0.142857</td>\n    </tr>\n    <tr>\n      <th>scanning timeout</th>\n      <td>1.0</td>\n      <td>392.0</td>\n      <td>0.002551</td>\n    </tr>\n    <tr>\n      <th>21</th>\n      <td>1.0</td>\n      <td>982.0</td>\n      <td>0.001018</td>\n    </tr>\n    <tr>\n      <th>connectionterminated by local host</th>\n      <td>1.0</td>\n      <td>4011.0</td>\n      <td>0.000249</td>\n    </tr>\n    <tr>\n      <th>13</th>\n      <td>3.0</td>\n      <td>12040.0</td>\n      <td>0.000249</td>\n    </tr>\n    <tr>\n      <th>14</th>\n      <td>31.0</td>\n      <td>263577.0</td>\n      <td>0.000118</td>\n    </tr>\n    <tr>\n      <th>B-A8002</th>\n      <td>101.0</td>\n      <td>897863.0</td>\n      <td>0.000112</td>\n    </tr>\n    <tr>\n      <th>3</th>\n      <td>10.0</td>\n      <td>91223.0</td>\n      <td>0.000110</td>\n    </tr>\n    <tr>\n      <th>8.0</th>\n      <td>1.0</td>\n      <td>9317.0</td>\n      <td>0.000107</td>\n    </tr>\n    <tr>\n      <th>4</th>\n      <td>2.0</td>\n      <td>20249.0</td>\n      <td>0.000099</td>\n    </tr>\n    <tr>\n      <th>90</th>\n      <td>6.0</td>\n      <td>65992.0</td>\n      <td>0.000091</td>\n    </tr>\n    <tr>\n      <th>S-61001</th>\n      <td>3.0</td>\n      <td>34631.0</td>\n      <td>0.000087</td>\n    </tr>\n    <tr>\n      <th>NFANDROID2</th>\n      <td>9.0</td>\n      <td>104138.0</td>\n      <td>0.000086</td>\n    </tr>\n    <tr>\n      <th>2</th>\n      <td>14.0</td>\n      <td>166382.0</td>\n      <td>0.000084</td>\n    </tr>\n    <tr>\n      <th>Q-64002</th>\n      <td>1.0</td>\n      <td>11959.0</td>\n      <td>0.000084</td>\n    </tr>\n    <tr>\n      <th>89</th>\n      <td>5.0</td>\n      <td>64799.0</td>\n      <td>0.000077</td>\n    </tr>\n    <tr>\n      <th>1</th>\n      <td>463.0</td>\n      <td>8906967.0</td>\n      <td>0.000052</td>\n    </tr>\n    <tr>\n      <th>0</th>\n      <td>118.0</td>\n      <td>2599123.0</td>\n      <td>0.000045</td>\n    </tr>\n    <tr>\n      <th>active</th>\n      <td>9.0</td>\n      <td>219238.0</td>\n      <td>0.000041</td>\n    </tr>\n    <tr>\n      <th>79</th>\n      <td>13.0</td>\n      <td>332422.0</td>\n      <td>0.000039</td>\n    </tr>\n    <tr>\n      <th>80</th>\n      <td>13.0</td>\n      <td>334018.0</td>\n      <td>0.000039</td>\n    </tr>\n    <tr>\n      <th>connection timeout</th>\n      <td>37.0</td>\n      <td>1835600.0</td>\n      <td>0.000020</td>\n    </tr>\n    <tr>\n      <th>standby</th>\n      <td>2.0</td>\n      <td>110370.0</td>\n      <td>0.000018</td>\n    </tr>\n    <tr>\n      <th>connection fail to establish</th>\n      <td>1.0</td>\n      <td>100940.0</td>\n      <td>0.000010</td>\n    </tr>\n    <tr>\n      <th>6796</th>\n      <td>0.0</td>\n      <td>1.0</td>\n      <td>0.000000</td>\n    </tr>\n  </tbody>\n</table>\n</div>"
     },
     "metadata": {},
     "execution_count": 6
    }
   ],
   "source": [
    "for errcode in dic:\n",
    "    dic[errcode]['ratio'] = dic[errcode]['problems'] / dic[errcode]['total']\n",
    "\n",
    "dic = OrderedDict(sorted(dic.items(), key=lambda kv: kv[1]['ratio'], reverse=True))\n",
    "pd.DataFrame(dic).T.iloc[:26]"
   ]
  }
 ]
}